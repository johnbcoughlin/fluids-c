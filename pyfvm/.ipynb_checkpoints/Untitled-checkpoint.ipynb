{
 "cells": [
  {
   "cell_type": "code",
   "execution_count": 6,
   "metadata": {},
   "outputs": [],
   "source": [
    "from collections import namedtuple\n",
    "import numpy as np\n",
    "import matplotlib.pyplot as plt"
   ]
  },
  {
   "cell_type": "code",
   "execution_count": 7,
   "metadata": {},
   "outputs": [],
   "source": [
    "# class defs\n",
    "\n",
    "class Vec2(namedtuple('Vec2', ['x', 'y'])):\n",
    "    def __add__(self, other):\n",
    "        return Vec2(self.x + other.x, self.y + other.y)\n",
    "\n",
    "    def __mul__(self, other):\n",
    "        return Vec2(self.x * other, self.y * other)\n",
    "\n",
    "\n",
    "class Face(namedtuple('Face', ['a', 'b'])):\n",
    "    @property\n",
    "    def center(self):\n",
    "        return (self.a + self.b) * 0.5\n",
    "\n",
    "class Cell:\n",
    "    def __init__(self, center, faces: [Face]):\n",
    "        self.center = center\n",
    "        self.faces = faces\n",
    "\n",
    "class Grid:\n",
    "    def __init__(self, cells: [[Cell]]):\n",
    "        self.cells = cells\n",
    "\n",
    "    def __str__(self):\n",
    "        return str(cells)"
   ]
  },
  {
   "cell_type": "code",
   "execution_count": null,
   "metadata": {},
   "outputs": [],
   "source": []
  },
  {
   "cell_type": "code",
   "execution_count": 5,
   "metadata": {},
   "outputs": [
    {
     "name": "stdout",
     "output_type": "stream",
     "text": [
      "[[<__main__.Cell object at 0x10f5c1438>, <__main__.Cell object at 0x10f5c1470>, <__main__.Cell object at 0x10f5c14a8>, <__main__.Cell object at 0x10f5c14e0>, <__main__.Cell object at 0x10f5c1518>, <__main__.Cell object at 0x10f5c1550>, <__main__.Cell object at 0x10f5c1588>, <__main__.Cell object at 0x10f5c15c0>, <__main__.Cell object at 0x10f5c15f8>, <__main__.Cell object at 0x10f5c1630>], [<__main__.Cell object at 0x10f5c1668>, <__main__.Cell object at 0x10f5c16a0>, <__main__.Cell object at 0x10f5c16d8>, <__main__.Cell object at 0x10f5c1710>, <__main__.Cell object at 0x10f5c1748>, <__main__.Cell object at 0x10f5c1780>, <__main__.Cell object at 0x10f5c17b8>, <__main__.Cell object at 0x10f5c17f0>, <__main__.Cell object at 0x10f5c1828>, <__main__.Cell object at 0x10f5c1860>], [<__main__.Cell object at 0x10f5c1898>, <__main__.Cell object at 0x10f5c18d0>, <__main__.Cell object at 0x10f5c1908>, <__main__.Cell object at 0x10f5c1940>, <__main__.Cell object at 0x10f5c1978>, <__main__.Cell object at 0x10f5c19b0>, <__main__.Cell object at 0x10f5c19e8>, <__main__.Cell object at 0x10f5c1a20>, <__main__.Cell object at 0x10f5c1a58>, <__main__.Cell object at 0x10f5c1a90>], [<__main__.Cell object at 0x10f5c1ac8>, <__main__.Cell object at 0x10f5c1b00>, <__main__.Cell object at 0x10f5c1b38>, <__main__.Cell object at 0x10f5c1b70>, <__main__.Cell object at 0x10f5c1ba8>, <__main__.Cell object at 0x10f5c1be0>, <__main__.Cell object at 0x10f5c1c18>, <__main__.Cell object at 0x10f5c1c50>, <__main__.Cell object at 0x10f5c1c88>, <__main__.Cell object at 0x10f5c1cc0>], [<__main__.Cell object at 0x10f5c1cf8>, <__main__.Cell object at 0x10f5c1d30>, <__main__.Cell object at 0x10f5c1d68>, <__main__.Cell object at 0x10f5c1da0>, <__main__.Cell object at 0x10f5c1dd8>, <__main__.Cell object at 0x10f5c1e10>, <__main__.Cell object at 0x10f5c1e48>, <__main__.Cell object at 0x10f5c1e80>, <__main__.Cell object at 0x10f5c1eb8>, <__main__.Cell object at 0x10f5c1ef0>], [<__main__.Cell object at 0x10f5c1f28>, <__main__.Cell object at 0x10f5c1f60>, <__main__.Cell object at 0x10f5c1f98>, <__main__.Cell object at 0x10f5c1fd0>, <__main__.Cell object at 0x10f5e1048>, <__main__.Cell object at 0x10f5e1080>, <__main__.Cell object at 0x10f5e10b8>, <__main__.Cell object at 0x10f5e10f0>, <__main__.Cell object at 0x10f5e1128>, <__main__.Cell object at 0x10f5e1160>], [<__main__.Cell object at 0x10f5e1198>, <__main__.Cell object at 0x10f5e11d0>, <__main__.Cell object at 0x10f5e1208>, <__main__.Cell object at 0x10f5e1240>, <__main__.Cell object at 0x10f5e1278>, <__main__.Cell object at 0x10f5e12b0>, <__main__.Cell object at 0x10f5e12e8>, <__main__.Cell object at 0x10f5e1320>, <__main__.Cell object at 0x10f5e1358>, <__main__.Cell object at 0x10f5e1390>], [<__main__.Cell object at 0x10f5e13c8>, <__main__.Cell object at 0x10f5e1400>, <__main__.Cell object at 0x10f5e1438>, <__main__.Cell object at 0x10f5e1470>, <__main__.Cell object at 0x10f5e14a8>, <__main__.Cell object at 0x10f5e14e0>, <__main__.Cell object at 0x10f5e1518>, <__main__.Cell object at 0x10f5e1550>, <__main__.Cell object at 0x10f5e1588>, <__main__.Cell object at 0x10f5e15c0>], [<__main__.Cell object at 0x10f5e15f8>, <__main__.Cell object at 0x10f5e1630>, <__main__.Cell object at 0x10f5e1668>, <__main__.Cell object at 0x10f5e16a0>, <__main__.Cell object at 0x10f5e16d8>, <__main__.Cell object at 0x10f5e1710>, <__main__.Cell object at 0x10f5e1748>, <__main__.Cell object at 0x10f5e1780>, <__main__.Cell object at 0x10f5e17b8>, <__main__.Cell object at 0x10f5e17f0>], [<__main__.Cell object at 0x10f5e1828>, <__main__.Cell object at 0x10f5e1860>, <__main__.Cell object at 0x10f5e1898>, <__main__.Cell object at 0x10f5e18d0>, <__main__.Cell object at 0x10f5e1908>, <__main__.Cell object at 0x10f5e1940>, <__main__.Cell object at 0x10f5e1978>, <__main__.Cell object at 0x10f5e19b0>, <__main__.Cell object at 0x10f5e19e8>, <__main__.Cell object at 0x10f5e1a20>]]\n"
     ]
    }
   ],
   "source": [
    "cells = []\n",
    "for i in range(10):\n",
    "    row = []\n",
    "    for j in range(10):\n",
    "        faces: [Face] = [\n",
    "            Face(Vec2(i, j), Vec2(i + 1, j)),\n",
    "            Face(Vec2(i, j), Vec2(i, j + 1)),\n",
    "            Face(Vec2(i + 1, j), Vec2(i + 1, j + 1)),\n",
    "            Face(Vec2(i, j + 1), Vec2(i + 1, j + 1))\n",
    "        ]\n",
    "        cell: Cell = Cell(faces)\n",
    "        row.append(cell)\n",
    "    cells.append(row)\n",
    "\n",
    "p = np.zeros((10, 10))\n",
    "u_x = np.zeros((10, 10))\n",
    "u_y = np.zeros((10, 10))\n",
    "grid = Grid(cells)\n",
    "\n",
    "dt = 0.01\n",
    "\n",
    "\n",
    "def apply_body_forces():\n",
    "    for i in range(10):\n",
    "        for j in range(10):\n",
    "            cells[i][j].u_y = -9.8 * dt\n",
    "\n",
    "\n",
    "apply_body_forces()\n",
    "\n",
    "def plot():\n",
    "    matplotlib.pyplot"
   ]
  },
  {
   "cell_type": "code",
   "execution_count": null,
   "metadata": {},
   "outputs": [],
   "source": []
  }
 ],
 "metadata": {
  "kernelspec": {
   "display_name": "Python 3",
   "language": "python",
   "name": "python3"
  },
  "language_info": {
   "codemirror_mode": {
    "name": "ipython",
    "version": 3
   },
   "file_extension": ".py",
   "mimetype": "text/x-python",
   "name": "python",
   "nbconvert_exporter": "python",
   "pygments_lexer": "ipython3",
   "version": "3.6.1"
  }
 },
 "nbformat": 4,
 "nbformat_minor": 2
}
